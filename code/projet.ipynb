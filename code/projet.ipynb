{
 "cells": [
  {
   "cell_type": "code",
   "execution_count": 2,
   "metadata": {
    "collapsed": false
   },
   "outputs": [],
   "source": [
    "from __future__ import absolute_import\n",
    "from __future__ import division\n",
    "from __future__ import print_function\n",
    "\n",
    "import argparse\n",
    "import gzip\n",
    "import os\n",
    "import sys\n",
    "import time\n",
    "from os import listdir\n",
    "from os.path import isfile, join\n",
    "\n",
    "import collections\n",
    "import numpy as np\n",
    "from six.moves import urllib\n",
    "from six.moves import xrange  # pylint: disable=redefined-builtin\n",
    "import tensorflow as tf\n",
    "from scipy import misc\n",
    "import matplotlib.pyplot as plt\n",
    "%matplotlib inline\n",
    "\n",
    "SOURCE_URL = 'http://yann.lecun.com/exdb/mnist/'\n",
    "WORK_DIRECTORY = '.'\n",
    "IMAGE_HEIGHT = 32\n",
    "IMAGE_WIDTH = 100\n",
    "NUM_CHANNELS = 1\n",
    "PIXEL_DEPTH = 255\n",
    "NUM_LABELS = 37\n",
    "NUMBERS = 23\n",
    "VALIDATION_SIZE = 100  # Size of the validation set.\n",
    "SEED = 66478  # Set to None for random seed.\n",
    "BATCH_SIZE = 10\n",
    "NUM_EPOCHS = 10\n",
    "EVAL_BATCH_SIZE = 1\n",
    "EVAL_FREQUENCY = 100  # Number of steps between evaluations.\n",
    "\n",
    "\n",
    "FLAGS = None"
   ]
  },
  {
   "cell_type": "code",
   "execution_count": 3,
   "metadata": {
    "collapsed": true
   },
   "outputs": [],
   "source": [
    "def data_type():\n",
    "    return tf.float32"
   ]
  },
  {
   "cell_type": "code",
   "execution_count": 4,
   "metadata": {
    "collapsed": true
   },
   "outputs": [],
   "source": [
    "def extract_data(filename):\n",
    "    \"\"\"Extract the images into a 4D tensor [image index, y, x, channels].\n",
    "\n",
    "    //Values are rescaled from [0, 255] down to [-0.5, 0.5].\n",
    "    \"\"\"\n",
    "    print('Extracting', filename)\n",
    "    '''\n",
    "    with gzip.open(filename) as bytestream:\n",
    "        bytestream.read(16)\n",
    "        buf = bytestream.read(IMAGE_SIZE * IMAGE_SIZE * num_images * NUM_CHANNELS)\n",
    "        data = numpy.frombuffer(buf, dtype=numpy.uint8).astype(numpy.float32)\n",
    "        data = (data - (PIXEL_DEPTH / 2.0)) / PIXEL_DEPTH\n",
    "        data = data.reshape(num_images, IMAGE_SIZE, IMAGE_SIZE, NUM_CHANNELS)\n",
    "    '''\n",
    "    files = [f for f in listdir(filename)]\n",
    "    data = dict()\n",
    "    for file in files:\n",
    "        #f = misc.face(gray=True)\n",
    "        image = misc.imread(filename+file,flatten=True)\n",
    "        image.resize((32,100,))\n",
    "        image = (image - image.mean())/ image.std()\n",
    "        #plt.figure()\n",
    "        #plt.imshow(image) \n",
    "        data[file] = image\n",
    "    od = collections.OrderedDict(sorted(data.items()))\n",
    "    #print(od.keys())\n",
    "    return od.values()"
   ]
  },
  {
   "cell_type": "code",
   "execution_count": 5,
   "metadata": {
    "collapsed": false
   },
   "outputs": [],
   "source": [
    "import string\n",
    "transductor = dict()\n",
    "for i in range(10):\n",
    "    transductor[str(i)] = i\n",
    "for letter in  list(string.ascii_lowercase):\n",
    "    transductor[letter] = ord(letter) - ord('a') + 10\n"
   ]
  },
  {
   "cell_type": "code",
   "execution_count": 6,
   "metadata": {
    "collapsed": false
   },
   "outputs": [],
   "source": [
    "def convert(str):\n",
    "    \"\"\"\n",
    "        Convert a string into an array of ints\n",
    "    \"\"\"\n",
    "    arr = np.zeros((len(str),37))\n",
    "    i = 0\n",
    "    for char in str:\n",
    "        if char in transductor.keys():\n",
    "            arr[i][transductor[char]] = 1\n",
    "        else:\n",
    "            arr[i][36] = 1\n",
    "        i += 1\n",
    "    return (arr)"
   ]
  },
  {
   "cell_type": "code",
   "execution_count": 7,
   "metadata": {
    "collapsed": false
   },
   "outputs": [],
   "source": [
    "pred = convert('proper')"
   ]
  },
  {
   "cell_type": "code",
   "execution_count": 8,
   "metadata": {
    "collapsed": true
   },
   "outputs": [],
   "source": [
    "def extract_labels(filename):\n",
    "    \"\"\"Extract the labels from a txt file into a dictionary labels whose key is the image name, \n",
    "       whose value is the word in the image\n",
    "    \"\"\"\n",
    "    print('Extracting', filename)\n",
    "    '''\n",
    "    with gzip.open(filename) as bytestream:\n",
    "        bytestream.read(8)\n",
    "        buf = bytestream.read(1 * num_images)\n",
    "        labels = numpy.frombuffer(buf, dtype=numpy.uint8).astype(numpy.int64)\n",
    "    return labels\n",
    "    '''\n",
    "    labels = dict()\n",
    "    data = []\n",
    "    with open(filename) as f:\n",
    "        for line in f.readlines():\n",
    "            line = line.strip()\n",
    "            content = line.split(', ')\n",
    "            filename = content[0]\n",
    "            label = content[1].replace('\"','')\n",
    "            labels[filename] = label.lower() \n",
    "            #print(filename+','+label,len(filename),len(label))\n",
    "            #labels[] = \n",
    "    od = collections.OrderedDict(sorted(labels.items()))\n",
    "    for string in od.values():\n",
    "        code = np.zeros((23,37))\n",
    "        code[:len(string)] = convert(string)\n",
    "        code[len(string):,36] = 1\n",
    "        data.append(code)\n",
    "    return data"
   ]
  },
  {
   "cell_type": "code",
   "execution_count": 9,
   "metadata": {
    "collapsed": false
   },
   "outputs": [],
   "source": [
    "#extract_labels('./train_labels.txt')\n"
   ]
  },
  {
   "cell_type": "code",
   "execution_count": 10,
   "metadata": {
    "collapsed": false
   },
   "outputs": [],
   "source": [
    "def error_rate(predictions, labels):\n",
    "    \"\"\"Return the error rate based on dense predictions and sparse labels.\"\"\"\n",
    "    return 100 -(100.0 * np.mean(np.argmax(predictions,2) == np.argmax(labels,2)))\n"
   ]
  },
  {
   "cell_type": "code",
   "execution_count": 11,
   "metadata": {
    "collapsed": false
   },
   "outputs": [
    {
     "name": "stdout",
     "output_type": "stream",
     "text": [
      "Extracting ./train/\n",
      "Extracting train_labels.txt\n",
      "Extracting ./test/\n",
      "Extracting test_labels.txt\n"
     ]
    }
   ],
   "source": [
    "# Get the data.\n",
    "#train_data_filename = maybe_download('Challenge2_Training_Task3_Images_GT.zip')\n",
    "#train_labels_filename = maybe_download('train-labels-idx1-ubyte.gz')\n",
    "#test_data_filename = maybe_download('t10k-images-idx3-ubyte.gz')\n",
    "#test_labels_filename = maybe_download('t10k-labels-idx1-ubyte.gz')\n",
    "\n",
    "train_data_filename = './train/'\n",
    "train_labels_filename = 'train_labels.txt'\n",
    "test_data_filename = './test/'\n",
    "test_labels_filename = 'test_labels.txt'\n",
    "\n",
    "# Extract it into numpy arrays.\n",
    "temp = extract_data(train_data_filename)\n",
    "train_data = np.asarray(list(temp)).reshape(len(temp), IMAGE_HEIGHT, IMAGE_WIDTH, NUM_CHANNELS)\n",
    "temp = extract_labels(train_labels_filename)\n",
    "train_labels = np.asarray(list(temp))\n",
    "\n",
    "test_data = np.asarray(list(extract_data(test_data_filename)))\n",
    "test_labels = np.asarray(list(extract_labels(test_labels_filename)))\n",
    "\n",
    "# Generate a validation set.\n",
    "validation_data = train_data[:VALIDATION_SIZE, ...]\n",
    "validation_labels = train_labels[:VALIDATION_SIZE]\n",
    "train_data = train_data[VALIDATION_SIZE:, ...]\n",
    "train_labels = train_labels[VALIDATION_SIZE:]\n",
    "num_epochs = NUM_EPOCHS\n",
    "train_size = train_labels.shape[0]\n"
   ]
  },
  {
   "cell_type": "code",
   "execution_count": 12,
   "metadata": {
    "collapsed": false
   },
   "outputs": [
    {
     "name": "stdout",
     "output_type": "stream",
     "text": [
      "(748, 23, 37)\n"
     ]
    }
   ],
   "source": [
    "print((train_labels.shape))"
   ]
  },
  {
   "cell_type": "code",
   "execution_count": 17,
   "metadata": {
    "collapsed": false
   },
   "outputs": [],
   "source": [
    "# This is where training samples and labels are fed to the graph.\n",
    "# These placeholder nodes will be fed a batch of training data at each\n",
    "# training step using the {feed_dict} argument to the Run() call below.\n",
    "train_data_node = tf.placeholder(\n",
    "  data_type(),\n",
    "  shape=(None, IMAGE_HEIGHT, IMAGE_WIDTH, NUM_CHANNELS))\n",
    "train_labels_node = tf.placeholder(tf.float32, shape=(None,23,37))\n",
    "eval_data = tf.placeholder(\n",
    "  data_type(),\n",
    "  shape=(EVAL_BATCH_SIZE, IMAGE_HEIGHT, IMAGE_WIDTH, NUM_CHANNELS))\n",
    "\n",
    "# The variables below hold all the trainable weights. They are passed an\n",
    "# initial value which will be assigned when we call:\n",
    "# {tf.global_variables_initializer().run()}\n",
    "conv1_weights = tf.Variable(\n",
    "  tf.truncated_normal([5, 5, NUM_CHANNELS, 64],  # 5x5 filter, depth 64.\n",
    "                      stddev=0.1,\n",
    "                      seed=SEED, dtype=data_type()))\n",
    "conv1_biases = tf.Variable(tf.zeros([64], dtype=data_type()))\n",
    "conv3_weights = tf.Variable(tf.truncated_normal(\n",
    "  [5, 5, 64, 128], stddev=0.1,\n",
    "  seed=SEED, dtype=data_type()))\n",
    "conv3_biases = tf.Variable(tf.constant(0.1, shape=[128], dtype=data_type()))\n",
    "\n",
    "conv5_weights = tf.Variable(tf.truncated_normal(\n",
    "  [3, 3,128, 256], stddev=0.1,\n",
    "  seed=SEED, dtype=data_type()))\n",
    "conv5_biases = tf.Variable(tf.constant(0.1, shape=[256], dtype=data_type()))\n",
    "\n",
    "conv7_weights = tf.Variable(tf.truncated_normal(\n",
    "  [3, 3, 256, 512], stddev=0.1,\n",
    "  seed=SEED, dtype=data_type()))\n",
    "conv7_biases = tf.Variable(tf.constant(0.1, shape=[512], dtype=data_type()))\n",
    "\n",
    "conv9_weights = tf.Variable(tf.truncated_normal(\n",
    "  [3, 3, 512, 512], stddev=0.1,\n",
    "  seed=SEED, dtype=data_type()))\n",
    "conv9_biases = tf.Variable(tf.constant(0.1, shape=[512], dtype=data_type()))\n",
    "\n",
    "\n",
    "fc6_weights = tf.Variable(  # fully connected, depth 4096.\n",
    "  tf.truncated_normal([512*4*13, 4096],\n",
    "                      stddev=0.1,\n",
    "                      seed=SEED,\n",
    "                      dtype=data_type()))\n",
    "fc6_biases = tf.Variable(tf.constant(0.1, shape=[4096], dtype=data_type()))\n",
    "fc7_weights = tf.Variable(tf.truncated_normal([4096, 4096],\n",
    "                                            stddev=0.1,\n",
    "                                            seed=SEED,\n",
    "                                            dtype=data_type()))\n",
    "fc7_biases = tf.Variable(tf.constant(\n",
    "  0.1, shape=[4096], dtype=data_type()))\n",
    "\n",
    "outputs_weights = tf.Variable(tf.truncated_normal([4096,NUMBERS*NUM_LABELS],\n",
    "                                            stddev=0.1,\n",
    "                                            seed=SEED,\n",
    "                                            dtype=data_type()))\n",
    "\n",
    "outputs_biases = tf.Variable(tf.constant(\n",
    "  0.1, shape=[NUMBERS*NUM_LABELS], dtype=data_type()))\n"
   ]
  },
  {
   "cell_type": "code",
   "execution_count": 18,
   "metadata": {
    "collapsed": false
   },
   "outputs": [
    {
     "name": "stdout",
     "output_type": "stream",
     "text": [
      "Tensor(\"Variable_28/read:0\", shape=(4096, 4096), dtype=float32)\n"
     ]
    }
   ],
   "source": [
    "print(fc7_weights)"
   ]
  },
  {
   "cell_type": "markdown",
   "metadata": {},
   "source": [
    "## We will replicate the model structure for the training subgraph, as well as the evaluation subgraphs, while sharing the trainable parameters."
   ]
  },
  {
   "cell_type": "code",
   "execution_count": 22,
   "metadata": {
    "collapsed": false
   },
   "outputs": [],
   "source": [
    "\n",
    "conv1 = []\n",
    "\n",
    "class Model():\n",
    "        \n",
    "    def model(self, data, train=False):\n",
    "        \"\"\"The Model definition.\"\"\"\n",
    "        # 2D convolution, with 'SAME' padding (i.e. the output feature map has\n",
    "        # the same size as the input). Note that {strides} is a 4D array whose\n",
    "        # shape matches the data layout: [image index, y, x, depth].\n",
    "        self.conv1 = tf.nn.conv2d(data,\n",
    "                            conv1_weights,\n",
    "                            strides=[1, 1, 1, 1],\n",
    "                            padding='SAME')\n",
    "        # Bias and rectified linear non-linearity.\n",
    "        self.relu1 = tf.nn.relu(tf.nn.bias_add(self.conv1, conv1_biases))\n",
    "        # Max pooling. The kernel size spec {ksize} also follows the layout of\n",
    "        # the data. Here we have a pooling window of 2, and a stride of 2.\n",
    "        self.pool2 = tf.nn.max_pool(self.relu1,\n",
    "                              ksize=[1, 2, 2, 1],\n",
    "                              strides=[1, 2, 2, 1],\n",
    "                              padding='SAME')\n",
    "        \n",
    "        self.conv3 = tf.nn.conv2d(self.pool2,\n",
    "                            conv3_weights,\n",
    "                            strides=[1, 1, 1, 1],\n",
    "                            padding='SAME')\n",
    "        self.relu3 = tf.nn.relu(tf.nn.bias_add(self.conv3, conv3_biases))\n",
    "        self.pool4 = tf.nn.max_pool(self.relu3,\n",
    "                              ksize=[1, 2, 2, 1],\n",
    "                              strides=[1, 2, 2, 1],\n",
    "                              padding='SAME')\n",
    "        \n",
    "        self.conv5 = tf.nn.conv2d(self.pool4,\n",
    "                            conv5_weights,\n",
    "                            strides=[1, 1, 1, 1],\n",
    "                            padding='SAME')\n",
    "        self.relu5 = tf.nn.relu(tf.nn.bias_add(self.conv5, conv5_biases))\n",
    "        self.pool5 = tf.nn.max_pool(self.relu5,\n",
    "                              ksize=[1, 2, 2, 1],\n",
    "                              strides=[1, 2, 2, 1],\n",
    "                              padding='SAME')\n",
    "        self.conv7 = tf.nn.conv2d(self.pool5,\n",
    "                            conv7_weights,\n",
    "                            strides=[1, 1, 1, 1],\n",
    "                            padding='SAME')\n",
    "        self.relu7 = tf.nn.relu(tf.nn.bias_add(self.conv7, conv7_biases))\n",
    "        \n",
    "        self.conv9 = tf.nn.conv2d(self.relu7,\n",
    "                            conv9_weights,\n",
    "                            strides=[1, 1, 1, 1],\n",
    "                            padding='SAME')\n",
    "        self.relu9 = tf.nn.relu(tf.nn.bias_add(self.conv9, conv9_biases))\n",
    "        \n",
    "        # Reshape the feature map cuboid into a 2D matrix to feed it to the\n",
    "        # fully connected layers.\n",
    "        conv_shape = self.relu9.get_shape().as_list()\n",
    "        \n",
    "        reshape = tf.reshape(\n",
    "            self.relu9,\n",
    "            [conv_shape[0], conv_shape[1] * conv_shape[2] * conv_shape[3]])\n",
    "        # Fully connected layer. Note that the '+' operation automatically\n",
    "        # broadcasts the biases.\n",
    "        self.hidden1 = tf.nn.relu(tf.matmul(reshape, fc6_weights) + fc6_biases)\n",
    "        self.hidden2 = tf.matmul(self.hidden1, fc7_weights) + fc7_biases\n",
    "        # Add a 50% dropout during training only. Dropout also scales\n",
    "        # activations such that no rescaling is needed at evaluation time.\n",
    "        if train:\n",
    "            self.hidden2 = tf.nn.dropout(self.hidden1, 0.5, seed=SEED)\n",
    "        \n",
    "        self.outputs = tf.matmul(self.hidden2, outputs_weights) + outputs_biases\n",
    "        reshape = tf.reshape(self.outputs,[-1, NUMBERS, NUM_LABELS])\n",
    "        return reshape\n"
   ]
  },
  {
   "cell_type": "code",
   "execution_count": 23,
   "metadata": {
    "collapsed": false
   },
   "outputs": [
    {
     "name": "stdout",
     "output_type": "stream",
     "text": [
      "Tensor(\"Reshape_4:0\", shape=(10, 23, 37), dtype=float32)\n",
      "Tensor(\"Placeholder_4:0\", shape=(?, 23, 37), dtype=float32)\n"
     ]
    }
   ],
   "source": [
    "# Training computation: logits + cross-entropy loss.\n",
    "model_train = Model()\n",
    "logits = model_train.model(train_data_node, True)\n",
    "print(logits)\n",
    "print(train_labels_node)\n",
    "loss = tf.reduce_mean(tf.nn.softmax_cross_entropy_with_logits(logits=logits, labels=train_labels_node))\n",
    "\n",
    "# L2 regularization for the fully connected parameters.\n",
    "regularizers = (tf.nn.l2_loss(conv9_weights) + tf.nn.l2_loss(conv9_biases) + tf.nn.l2_loss(fc6_weights) + tf.nn.l2_loss(fc6_biases) +\n",
    "              tf.nn.l2_loss(fc7_weights) + tf.nn.l2_loss(fc7_biases))\n",
    "# Add the regularization term to the loss.\n",
    "loss += 5e-4 * regularizers\n",
    "\n",
    "# Optimizer: set up a variable that's incremented once per batch and\n",
    "# controls the learning rate decay.\n",
    "batch = tf.Variable(0, dtype=data_type())\n",
    "# Decay once per epoch, using an exponential schedule starting at 0.01.\n",
    "learning_rate = tf.train.exponential_decay(\n",
    "  0.01,                # Base learning rate.\n",
    "  batch * BATCH_SIZE,  # Current index into the dataset.\n",
    "  train_size,          # Decay step.\n",
    "  0.95,                # Decay rate.\n",
    "  staircase=True)\n",
    "# Use simple momentum for the optimization.\n",
    "#optimizer = tf.train.GradientDescentOptimizer(learning_rate).minimize(loss,global_step=batch)\n",
    "optimizer = tf.train.MomentumOptimizer(learning_rate, 0.9).minimize(loss, global_step=batch)\n",
    "\n",
    "# Predictions for the current training minibatch.\n",
    "train_prediction = tf.nn.softmax(logits)\n",
    "\n",
    "model_eval = Model()\n",
    "# Predictions for the test and validation, which we'll compute less often.\n",
    "eval_prediction = tf.nn.softmax(model_eval.model(eval_data))\n"
   ]
  },
  {
   "cell_type": "code",
   "execution_count": 24,
   "metadata": {
    "collapsed": false
   },
   "outputs": [],
   "source": [
    "# Small utility function to evaluate a dataset by feeding batches of data to\n",
    "# {eval_data} and pulling the results from {eval_predictions}.\n",
    "# Saves memory and enables this to run on smaller GPUs.\n",
    "import numpy\n",
    "def eval_in_batches(data, sess):\n",
    "    \"\"\"Get all predictions for a dataset by running it in small batches.\"\"\"\n",
    "    size = data.shape[0]\n",
    "    if size < EVAL_BATCH_SIZE:\n",
    "        raise ValueError(\"batch size for evals larger than dataset: %d\" % size)\n",
    "    predictions = numpy.ndarray(shape=(size,NUMBERS,NUM_LABELS), dtype=numpy.float32)\n",
    "    for begin in xrange(0, size, EVAL_BATCH_SIZE):\n",
    "        end = begin + EVAL_BATCH_SIZE\n",
    "        if end <= size:\n",
    "            predictions[begin:end, :, :] = sess.run(\n",
    "                eval_prediction,\n",
    "                feed_dict={eval_data: data[begin:end, ...]})\n",
    "        else:\n",
    "            batch_predictions = sess.run(\n",
    "                eval_prediction,\n",
    "                feed_dict={eval_data: data[-EVAL_BATCH_SIZE:, ...]})\n",
    "            predictions[begin:, :, :] = batch_predictions[begin - size:, :, :]\n",
    "    return predictions"
   ]
  },
  {
   "cell_type": "markdown",
   "metadata": {},
   "source": [
    "# Create a local session to run the training."
   ]
  },
  {
   "cell_type": "code",
   "execution_count": null,
   "metadata": {
    "collapsed": false,
    "scrolled": true
   },
   "outputs": [],
   "source": [
    "import numpy as np\n",
    "start_time = time.time()\n",
    "sess = tf.Session()\n",
    "\n",
    "# Run all the initializers to prepare the trainable parameters.\n",
    "tf.global_variables_initializer().run(session=sess)\n",
    "print('Initialized!')\n",
    "# Loop through training steps.\n",
    "for step in xrange(int(num_epochs * train_size) // BATCH_SIZE):\n",
    "    # Compute the offset of the current minibatch in the data.\n",
    "    # Note that we could use better randomization across epochs.\n",
    "    offset = (step * BATCH_SIZE) % (train_size - BATCH_SIZE)\n",
    "    batch_data = train_data[offset:(offset + BATCH_SIZE), ...]\n",
    "    batch_labels = train_labels[offset:(offset + BATCH_SIZE)]\n",
    "    # This dictionary maps the batch data (as a numpy array) to the\n",
    "    # node in the graph it should be fed to.\n",
    "    feed_dict = {train_data_node: batch_data,\n",
    "               train_labels_node: batch_labels}\n",
    "    # Run the optimizer to update weights.\n",
    "    sess.run(optimizer, feed_dict=feed_dict)\n",
    "    # print some extra information once reach the evaluation frequency\n",
    "    if step % EVAL_FREQUENCY == 0:\n",
    "        # fetch some extra nodes' data\n",
    "        l, lr, predictions = sess.run([loss, learning_rate, train_prediction],\n",
    "                                      feed_dict=feed_dict)\n",
    "        elapsed_time = time.time() - start_time\n",
    "        start_time = time.time()\n",
    "        \n",
    "        #getActivations(conv1,batch_data[0])\n",
    "        print('Step %d (epoch %.2f), %.1f ms' %\n",
    "              (step, float(step) * BATCH_SIZE / train_size,\n",
    "               1000 * elapsed_time / EVAL_FREQUENCY))\n",
    "        print('Minibatch loss: %.3f, learning rate: %.6f' % (l, lr))\n",
    "        print('Minibatch error: %.1f%%' % error_rate(predictions, batch_labels))\n",
    "        print('Validation error: %.1f%%' % error_rate(\n",
    "            eval_in_batches(validation_data, sess), validation_labels))\n",
    "        sys.stdout.flush()\n",
    "# Finally print the result!\n",
    "test_error = error_rate(eval_in_batches(test_data, sess), test_labels)\n",
    "print('Test error: %.1f%%' % test_error)"
   ]
  },
  {
   "cell_type": "code",
   "execution_count": null,
   "metadata": {
    "collapsed": false
   },
   "outputs": [],
   "source": [
    "def getActivations(layer,stimuli):\n",
    "        units = sess.run(layer,feed_dict={train_data_node:np.reshape(stimuli,[64,28,28,1],order='F')})\n",
    "        plotNNFilter(units)"
   ]
  },
  {
   "cell_type": "code",
   "execution_count": null,
   "metadata": {
    "collapsed": true
   },
   "outputs": [],
   "source": [
    "import math\n",
    "\n",
    "def plotNNFilter(units):\n",
    "    filters = units.shape[3]\n",
    "    print (units.shape)\n",
    "    plt.figure(1, figsize=(20,20))\n",
    "    n_columns = 6\n",
    "    n_rows = math.ceil(filters / n_columns) + 1\n",
    "    for i in range(filters):\n",
    "        plt.subplot(n_rows, n_columns, i+1)\n",
    "        plt.title('Filter ' + str(i))\n",
    "        plt.imshow(units[0,:,:,i], interpolation=\"nearest\", cmap=\"gray\")"
   ]
  },
  {
   "cell_type": "code",
   "execution_count": null,
   "metadata": {
    "collapsed": false
   },
   "outputs": [],
   "source": [
    "imageToUse = batch_data[0:64]\n",
    "print (len(imageToUse))\n",
    "plt.imshow(np.reshape(imageToUse[0],[32,100]), interpolation=\"nearest\", cmap=\"gray\")"
   ]
  },
  {
   "cell_type": "markdown",
   "metadata": {},
   "source": [
    "# Convolutional Layer C1"
   ]
  },
  {
   "cell_type": "code",
   "execution_count": null,
   "metadata": {
    "collapsed": false
   },
   "outputs": [],
   "source": [
    "getActivations(model_train.conv1,imageToUse)"
   ]
  },
  {
   "cell_type": "markdown",
   "metadata": {},
   "source": [
    "# ReLU Layer Relu1"
   ]
  },
  {
   "cell_type": "code",
   "execution_count": null,
   "metadata": {
    "collapsed": false
   },
   "outputs": [],
   "source": [
    "getActivations(model_train.relu1,imageToUse)"
   ]
  },
  {
   "cell_type": "markdown",
   "metadata": {},
   "source": [
    "# Pool Layer S2"
   ]
  },
  {
   "cell_type": "code",
   "execution_count": null,
   "metadata": {
    "collapsed": false
   },
   "outputs": [],
   "source": [
    "getActivations(model_train.pool2,imageToUse)"
   ]
  },
  {
   "cell_type": "markdown",
   "metadata": {},
   "source": [
    "# Convolutional Layer C3"
   ]
  },
  {
   "cell_type": "code",
   "execution_count": null,
   "metadata": {
    "collapsed": false
   },
   "outputs": [],
   "source": [
    "getActivations(model_train.conv3,imageToUse)"
   ]
  },
  {
   "cell_type": "markdown",
   "metadata": {},
   "source": [
    "# ReLU Layer relu3"
   ]
  },
  {
   "cell_type": "code",
   "execution_count": null,
   "metadata": {
    "collapsed": false
   },
   "outputs": [],
   "source": [
    "getActivations(model_train.relu3,imageToUse)"
   ]
  },
  {
   "cell_type": "markdown",
   "metadata": {},
   "source": [
    "# Pool Layer S4"
   ]
  },
  {
   "cell_type": "code",
   "execution_count": null,
   "metadata": {
    "collapsed": false
   },
   "outputs": [],
   "source": [
    "getActivations(model_train.pool4,imageToUse)"
   ]
  }
 ],
 "metadata": {
  "anaconda-cloud": {},
  "kernelspec": {
   "display_name": "Python [tensorflow35]",
   "language": "python",
   "name": "Python [tensorflow35]"
  },
  "language_info": {
   "codemirror_mode": {
    "name": "ipython",
    "version": 3
   },
   "file_extension": ".py",
   "mimetype": "text/x-python",
   "name": "python",
   "nbconvert_exporter": "python",
   "pygments_lexer": "ipython3",
   "version": "3.5.2"
  }
 },
 "nbformat": 4,
 "nbformat_minor": 0
}
